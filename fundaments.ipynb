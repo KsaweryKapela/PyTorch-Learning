{
 "cells": [
  {
   "cell_type": "code",
   "execution_count": 2,
   "metadata": {},
   "outputs": [
    {
     "data": {
      "text/plain": [
       "'1.12.1+cpu'"
      ]
     },
     "execution_count": 2,
     "metadata": {},
     "output_type": "execute_result"
    }
   ],
   "source": [
    "import torch\n",
    "import pandas as pd\n",
    "import numpy as np\n",
    "import matplotlib.pyplot as plt\n",
    "\n",
    "torch.__version__"
   ]
  },
  {
   "cell_type": "code",
   "execution_count": 10,
   "metadata": {},
   "outputs": [
    {
     "data": {
      "text/plain": [
       "tensor(7)"
      ]
     },
     "execution_count": 10,
     "metadata": {},
     "output_type": "execute_result"
    }
   ],
   "source": [
    "scalar = torch.tensor(7)\n",
    "scalar"
   ]
  },
  {
   "cell_type": "code",
   "execution_count": 11,
   "metadata": {},
   "outputs": [
    {
     "data": {
      "text/plain": [
       "0"
      ]
     },
     "execution_count": 11,
     "metadata": {},
     "output_type": "execute_result"
    }
   ],
   "source": [
    "scalar.ndim"
   ]
  },
  {
   "cell_type": "code",
   "execution_count": 12,
   "metadata": {},
   "outputs": [
    {
     "data": {
      "text/plain": [
       "7"
      ]
     },
     "execution_count": 12,
     "metadata": {},
     "output_type": "execute_result"
    }
   ],
   "source": [
    "scalar.item()"
   ]
  },
  {
   "cell_type": "code",
   "execution_count": 14,
   "metadata": {},
   "outputs": [
    {
     "data": {
      "text/plain": [
       "tensor([7, 7])"
      ]
     },
     "execution_count": 14,
     "metadata": {},
     "output_type": "execute_result"
    }
   ],
   "source": [
    "vector = torch.tensor([7, 7])\n",
    "vector"
   ]
  },
  {
   "cell_type": "code",
   "execution_count": 15,
   "metadata": {},
   "outputs": [
    {
     "data": {
      "text/plain": [
       "1"
      ]
     },
     "execution_count": 15,
     "metadata": {},
     "output_type": "execute_result"
    }
   ],
   "source": [
    "vector.ndim"
   ]
  },
  {
   "cell_type": "code",
   "execution_count": 23,
   "metadata": {},
   "outputs": [
    {
     "data": {
      "text/plain": [
       "tensor([[7, 7],\n",
       "        [7, 7]])"
      ]
     },
     "execution_count": 23,
     "metadata": {},
     "output_type": "execute_result"
    }
   ],
   "source": [
    "MATRIX = torch.tensor([[7, 7,], [7, 7]])\n",
    "MATRIX"
   ]
  },
  {
   "cell_type": "code",
   "execution_count": 18,
   "metadata": {},
   "outputs": [
    {
     "data": {
      "text/plain": [
       "2"
      ]
     },
     "execution_count": 18,
     "metadata": {},
     "output_type": "execute_result"
    }
   ],
   "source": [
    "MATRIX.ndim"
   ]
  },
  {
   "cell_type": "code",
   "execution_count": 21,
   "metadata": {},
   "outputs": [
    {
     "data": {
      "text/plain": [
       "torch.Size([2, 2])"
      ]
     },
     "execution_count": 21,
     "metadata": {},
     "output_type": "execute_result"
    }
   ],
   "source": [
    "MATRIX.shape"
   ]
  },
  {
   "cell_type": "code",
   "execution_count": 24,
   "metadata": {},
   "outputs": [
    {
     "data": {
      "text/plain": [
       "tensor([[[1, 2, 3],\n",
       "         [3, 4, 5],\n",
       "         [5, 6, 7]]])"
      ]
     },
     "execution_count": 24,
     "metadata": {},
     "output_type": "execute_result"
    }
   ],
   "source": [
    "TENSOR = torch.tensor([[[1, 2, 3], [3, 4, 5], [5, 6, 7]]])\n",
    "TENSOR"
   ]
  },
  {
   "cell_type": "code",
   "execution_count": 26,
   "metadata": {},
   "outputs": [
    {
     "data": {
      "text/plain": [
       "torch.Size([1, 3, 3])"
      ]
     },
     "execution_count": 26,
     "metadata": {},
     "output_type": "execute_result"
    }
   ],
   "source": [
    "TENSOR.shape"
   ]
  },
  {
   "attachments": {},
   "cell_type": "markdown",
   "metadata": {},
   "source": [
    "RANDOM TENSORS"
   ]
  },
  {
   "cell_type": "code",
   "execution_count": 34,
   "metadata": {},
   "outputs": [
    {
     "data": {
      "text/plain": [
       "tensor([[[0.0953, 0.2031, 0.0353],\n",
       "         [0.8023, 0.6688, 0.7867],\n",
       "         [0.5773, 0.2235, 0.9626],\n",
       "         [0.9743, 0.0100, 0.1975]],\n",
       "\n",
       "        [[0.3476, 0.6243, 0.9167],\n",
       "         [0.7092, 0.0347, 0.9206],\n",
       "         [0.7520, 0.8353, 0.5062],\n",
       "         [0.2279, 0.9417, 0.9281]],\n",
       "\n",
       "        [[0.2809, 0.5736, 0.9174],\n",
       "         [0.9001, 0.6840, 0.0831],\n",
       "         [0.9902, 0.1364, 0.5928],\n",
       "         [0.8995, 0.9227, 0.4634]]])"
      ]
     },
     "execution_count": 34,
     "metadata": {},
     "output_type": "execute_result"
    }
   ],
   "source": [
    "random_tensor = torch.rand(3, 4, 3)\n",
    "random_tensor"
   ]
  },
  {
   "cell_type": "code",
   "execution_count": 41,
   "metadata": {},
   "outputs": [
    {
     "data": {
      "text/plain": [
       "tensor([[[0.7585, 0.4767, 0.8843],\n",
       "         [0.6614, 0.0611, 0.6333],\n",
       "         [0.1302, 0.5796, 0.2695],\n",
       "         ...,\n",
       "         [0.2884, 0.9599, 0.7126],\n",
       "         [0.0777, 0.0420, 0.7149],\n",
       "         [0.7502, 0.4438, 0.2079]],\n",
       "\n",
       "        [[0.7020, 0.0882, 0.3419],\n",
       "         [0.3000, 0.1922, 0.9312],\n",
       "         [0.0292, 0.9491, 0.2624],\n",
       "         ...,\n",
       "         [0.2843, 0.5429, 0.9844],\n",
       "         [0.3959, 0.6897, 0.5016],\n",
       "         [0.4399, 0.8573, 0.0179]],\n",
       "\n",
       "        [[0.9392, 0.6637, 0.7064],\n",
       "         [0.0478, 0.8146, 0.5778],\n",
       "         [0.0296, 0.6500, 0.9654],\n",
       "         ...,\n",
       "         [0.5016, 0.9138, 0.4969],\n",
       "         [0.8266, 0.0535, 0.0231],\n",
       "         [0.1588, 0.2966, 0.4984]],\n",
       "\n",
       "        ...,\n",
       "\n",
       "        [[0.5516, 0.8579, 0.8532],\n",
       "         [0.0902, 0.9962, 0.2429],\n",
       "         [0.3965, 0.5582, 0.0700],\n",
       "         ...,\n",
       "         [0.4697, 0.5311, 0.1351],\n",
       "         [0.1568, 0.9747, 0.7750],\n",
       "         [0.6410, 0.0202, 0.6475]],\n",
       "\n",
       "        [[0.1384, 0.6874, 0.0806],\n",
       "         [0.1859, 0.8185, 0.8630],\n",
       "         [0.7758, 0.6165, 0.0226],\n",
       "         ...,\n",
       "         [0.7703, 0.4257, 0.6294],\n",
       "         [0.1155, 0.4862, 0.6063],\n",
       "         [0.1656, 0.6963, 0.8030]],\n",
       "\n",
       "        [[0.1003, 0.4251, 0.3352],\n",
       "         [0.2403, 0.9859, 0.7692],\n",
       "         [0.6153, 0.8260, 0.2518],\n",
       "         ...,\n",
       "         [0.7546, 0.4455, 0.1826],\n",
       "         [0.3531, 0.0610, 0.8875],\n",
       "         [0.2866, 0.7120, 0.8347]]])"
      ]
     },
     "execution_count": 41,
     "metadata": {},
     "output_type": "execute_result"
    }
   ],
   "source": [
    "random_image_size_tensor = torch.rand(244, 244, 3)\n",
    "random_image_size_tensor"
   ]
  },
  {
   "cell_type": "code",
   "execution_count": 43,
   "metadata": {},
   "outputs": [],
   "source": [
    "zeros = torch.zeros(3, 4)\n",
    "ones = torch.ones(3, 4)"
   ]
  },
  {
   "cell_type": "code",
   "execution_count": 44,
   "metadata": {},
   "outputs": [
    {
     "data": {
      "text/plain": [
       "(tensor([[0., 0., 0., 0.],\n",
       "         [0., 0., 0., 0.],\n",
       "         [0., 0., 0., 0.]]),\n",
       " tensor([[1., 1., 1., 1.],\n",
       "         [1., 1., 1., 1.],\n",
       "         [1., 1., 1., 1.]]))"
      ]
     },
     "execution_count": 44,
     "metadata": {},
     "output_type": "execute_result"
    }
   ],
   "source": [
    "zeros, ones"
   ]
  },
  {
   "cell_type": "code",
   "execution_count": null,
   "metadata": {},
   "outputs": [],
   "source": []
  }
 ],
 "metadata": {
  "kernelspec": {
   "display_name": "Python 3",
   "language": "python",
   "name": "python3"
  },
  "language_info": {
   "codemirror_mode": {
    "name": "ipython",
    "version": 3
   },
   "file_extension": ".py",
   "mimetype": "text/x-python",
   "name": "python",
   "nbconvert_exporter": "python",
   "pygments_lexer": "ipython3",
   "version": "3.10.3"
  },
  "orig_nbformat": 4,
  "vscode": {
   "interpreter": {
    "hash": "8c3d4d9970fc5c09c50d9318a9c7fbf4d0159e4b28833276f5678ee22bded273"
   }
  }
 },
 "nbformat": 4,
 "nbformat_minor": 2
}
